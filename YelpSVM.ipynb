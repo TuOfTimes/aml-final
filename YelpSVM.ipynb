{
 "cells": [
  {
   "cell_type": "code",
   "execution_count": null,
   "metadata": {},
   "outputs": [],
   "source": [
    "#Yelp "
   ]
  },
  {
   "cell_type": "code",
   "execution_count": 1,
   "metadata": {},
   "outputs": [],
   "source": [
    "import pandas as pd\n",
    "import numpy as np\n",
    "import matplotlib.pyplot as plt\n",
    "import seaborn as sns\n",
    "import nltk\n",
    "from nltk.corpus import stopwords\n",
    "import string\n",
    "from sklearn.feature_extraction.text import CountVectorizer\n",
    "from sklearn.model_selection import GridSearchCV, PredefinedSplit\n",
    "from sklearn.svm import LinearSVC\n",
    "from sklearn.metrics import confusion_matrix, classification_report\n",
    "from sklearn.metrics import accuracy_score\n",
    "from sklearn import svm\n",
    "import scipy.sparse as sp\n",
    "import re\n",
    "from sklearn.feature_extraction.text import TfidfVectorizer\n",
    "\n"
   ]
  },
  {
   "cell_type": "code",
   "execution_count": 2,
   "metadata": {
    "scrolled": true
   },
   "outputs": [],
   "source": [
    "#load reviews\n",
    "train = pd.read_csv('yelp_data/yelp_2013_train.csv')\n",
    "valid = pd.read_csv('yelp_data/yelp_2013_dev.csv')\n",
    "test = pd.read_csv('yelp_data/yelp_2013_test.csv')\n",
    "\n",
    "\n",
    "#balance classes\n",
    "#g = train.groupby('rating')\n",
    "#train.apply(lambda x: x.sample(g.size().min()).reset_index(drop=True))\n",
    "\n",
    "X_train = train['text'] \n",
    "y_train = train['rating']\n",
    "\n",
    "X_valid = valid['text']\n",
    "y_valid = valid['rating']\n",
    "X_test = test['text']\n",
    "y_test = test['rating']\n",
    "\n",
    "X_full = X_train + X_valid\n"
   ]
  },
  {
   "cell_type": "code",
   "execution_count": 3,
   "metadata": {},
   "outputs": [],
   "source": [
    "max_vocab = 50000\n",
    "bow_transformer = CountVectorizer(max_features=max_vocab, ngram_range=(1,2), \n",
    "                                  binary=True ).fit(X_full.values.astype('U'))"
   ]
  },
  {
   "cell_type": "code",
   "execution_count": 16,
   "metadata": {
    "scrolled": true
   },
   "outputs": [],
   "source": [
    "#print(bow_transformer.vocabulary_)"
   ]
  },
  {
   "cell_type": "code",
   "execution_count": 4,
   "metadata": {},
   "outputs": [],
   "source": [
    "X_train = bow_transformer.transform(X_train.values.astype('U'))\n",
    "X_valid = bow_transformer.transform(X_valid.values.astype('U'))\n",
    "X_test = bow_transformer.transform(X_test.values.astype('U'))"
   ]
  },
  {
   "cell_type": "code",
   "execution_count": 45,
   "metadata": {},
   "outputs": [],
   "source": [
    "max_vocab = 50000\n",
    "tfidf_transformer = TfidfVectorizer(max_features=max_vocab, ngram_range=(1,2) ).fit(X_full.values.astype('U'))\n",
    "X_train = tfidf_transformer.transform(X_train.values.astype('U'))\n",
    "X_valid = tfidf_transformer.transform(X_valid.values.astype('U'))\n",
    "X_test = tfidf_transformer.transform(X_test.values.astype('U'))"
   ]
  },
  {
   "cell_type": "code",
   "execution_count": 60,
   "metadata": {},
   "outputs": [],
   "source": [
    "#from sklearn.model_selection import train_test_split\n",
    "#X_train, X_test, y_train, y_test = train_test_split(X, y, test_size=0.1, random_state=101)\n",
    "#X_train, X_valid, y_train, y_valid = train_test_split(X_train, y_train, test_size=0.2, random_state=101)\n"
   ]
  },
  {
   "cell_type": "code",
   "execution_count": 7,
   "metadata": {},
   "outputs": [
    {
     "name": "stdout",
     "output_type": "stream",
     "text": [
      "0.5825573065902578\n"
     ]
    }
   ],
   "source": [
    "from sklearn.naive_bayes import MultinomialNB\n",
    "\n",
    "X_full = sp.vstack((X_train , X_valid))\n",
    "y_full = np.append(y_train, y_valid)\n",
    "nb = MultinomialNB(fit_prior=True)\n",
    "nb.fit(X_full, y_full)\n",
    "y_hat = nb.predict(X_test)\n",
    "\n",
    "print(accuracy_score(y_test, y_hat))"
   ]
  },
  {
   "cell_type": "code",
   "execution_count": 15,
   "metadata": {},
   "outputs": [
    {
     "name": "stdout",
     "output_type": "stream",
     "text": [
      "(301514,)\n",
      "(301514, 50000)\n"
     ]
    }
   ],
   "source": [
    "#SVM\n",
    "def linSVM(parameters, X, T, fold) : \n",
    "    n_folds = 3\n",
    "    svc = LinearSVC(multi_class='ovr', dual=False)\n",
    "    svc_cv = GridSearchCV(svc, parameters, cv=fold, scoring=\"accuracy\", refit=False)\n",
    "    svc_cv.fit(X, T)\n",
    "    scores = svc_cv.cv_results_['mean_test_score']\n",
    "    params = svc_cv.cv_results_['params']\n",
    "    print('scores:',scores)\n",
    "   #print('params:',params)\n",
    "    return svc_cv.best_params_\n",
    "\n",
    "def RF(parameters, X, T, fold) : \n",
    "    n_folds = 1\n",
    "    clf = RandomForestClassifier()\n",
    "    clf_cv = GridSearchCV(clf, parameters, cv=fold, scoring=\"accuracy\", refit=False)\n",
    "    clf_cv.fit(X, T)\n",
    "    scores = clf_cv.cv_results_['mean_test_score']\n",
    "    params = clf_cv.cv_results_['params']\n",
    "    print('scores:',scores)\n",
    "    print('params:',params)\n",
    "    return clf_cv.best_params_\n",
    "\n",
    "def MNB(parameters, X, T, fold) : \n",
    "    n_folds = 5\n",
    "    mnb = MultinomialNB(fit_prior=True)\n",
    "    mnb_cv = GridSearchCV(mnb, parameters, cv=fold, scoring=\"accuracy\", refit=False)\n",
    "    mnb_cv.fit(X, T)\n",
    "    scores = mnb_cv.cv_results_['mean_test_score']\n",
    "    params = mnb_cv.cv_results_['params']\n",
    "    print('scores:',scores)\n",
    "   #print('params:',params)\n",
    "    return mnb_cv.best_params_\n",
    "\n",
    "#placeX = X_valid\n",
    "#placey = y_valid\n",
    "#X_valid = X_test\n",
    "#y_valid = y_test\n",
    "#X_test = placeX\n",
    "#y_test = placey\n",
    "\n",
    "#Predefined Split for CV\n",
    "my_test_fold = []\n",
    "for i in range(X_train.shape[0]):\n",
    "    my_test_fold.append(-1)\n",
    "for i in range(X_valid.shape[0]):\n",
    "    my_test_fold.append(0)\n",
    "\n",
    "fold = PredefinedSplit(test_fold=my_test_fold)\n",
    "CV_split_T = np.append(y_train, y_valid)\n",
    "\n",
    "CV_split_X = sp.vstack((X_train , X_valid))  # NOT np.vstack\n",
    "\n",
    "\n",
    "print(CV_split_T.shape)\n",
    "print(CV_split_X.shape)\n"
   ]
  },
  {
   "cell_type": "code",
   "execution_count": 52,
   "metadata": {},
   "outputs": [
    {
     "name": "stdout",
     "output_type": "stream",
     "text": [
      "scores: [0.58141548 0.58138563 0.58153488 0.58147518 0.58153488 0.58138563\n",
      " 0.58147518 0.58165428]\n",
      "0.5863777459407832\n"
     ]
    }
   ],
   "source": [
    "#MNB\n",
    "alphas = [ 0.0001, 0.001, 0.01, 0.1, 1, 10, 100]\n",
    "9]\n",
    "\n",
    "param_grid = {'alpha': alphas}\n",
    "\n",
    "bestParams = MNB(param_grid, CV_split_X, CV_split_T, fold)\n",
    "\n",
    "nb = MultinomialNB(alpha=bestParams['alpha'], fit_prior=True)\n",
    "nb.fit(X_train, y_train)\n",
    "y_hat = nb.predict(X_test)\n",
    "\n",
    "print(accuracy_score(y_test, y_hat))"
   ]
  },
  {
   "cell_type": "code",
   "execution_count": 43,
   "metadata": {},
   "outputs": [
    {
     "name": "stdout",
     "output_type": "stream",
     "text": [
      "scores: [0.59508671 0.59744485 0.59929554 0.60087759 0.60111638 0.60195218\n",
      " 0.60195218 0.60210143]\n",
      "0.6047337631327603\n"
     ]
    }
   ],
   "source": [
    "#LINSVM\n",
    "Cs = [ 0.0001, 0.001, 0.01, 0.1, 1]\n",
    "Cs = [ .002, .003, .004, .005, .006, .007, .008, .009]\n",
    "Cs = [ .0005, .0006, .0007, .0008, .0009, .0011, .0012, .0013]\n",
    "#Cs = [.0045, .0047, .0049, .0051, .0053, .0055, ]\n",
    "#Cs = [.0054, .0056, .0057, .0058, .0059 ]\n",
    "#Cs = [.0071, .0072, .0073, .0074, .0075, .0076, .0077, .0078, .0079, .0080, .0081, .0081,.0083]\n",
    "#Cs = [.00750, .00751, .00752, .00753, .00754,.00755,.00756]\n",
    "\n",
    "param_grid = {'C': Cs}\n",
    "\n",
    "bestParams = linSVM(param_grid, CV_split_X, CV_split_T, fold)\n",
    "\n",
    "svc = LinearSVC(C = bestParams['C', multi_class='ovr')\n",
    "svc.fit(X_train, y_train)\n",
    "\n",
    "y_hat = svc.predict(X_test)\n",
    "print(accuracy_score(y_test, y_hat))"
   ]
  },
  {
   "cell_type": "code",
   "execution_count": null,
   "metadata": {},
   "outputs": [],
   "source": [
    "from sklearn.ensemble import RandomForestClassifier\n",
    "\n",
    "param_grid = {'n_estimators': est, 'max_depth': depth}\n",
    "#bestParams = RF(param_grid, CV_split_X, CV_split_T, fold)\n",
    "\n",
    "\n",
    "clf = RandomForestClassifier(n_estimators=150, max_depth=None, random_state=0)\n",
    "clf.fit(X_train, y_train)\n",
    "\n",
    "y_hat = clf.predict(X_test)\n",
    "print(accuracy_score(y_test, y_hat))"
   ]
  }
 ],
 "metadata": {
  "kernelspec": {
   "display_name": "Python 3",
   "language": "python",
   "name": "python3"
  },
  "language_info": {
   "codemirror_mode": {
    "name": "ipython",
    "version": 3
   },
   "file_extension": ".py",
   "mimetype": "text/x-python",
   "name": "python",
   "nbconvert_exporter": "python",
   "pygments_lexer": "ipython3",
   "version": "3.6.5"
  }
 },
 "nbformat": 4,
 "nbformat_minor": 2
}
