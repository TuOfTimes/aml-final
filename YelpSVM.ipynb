{
 "cells": [
  {
   "cell_type": "code",
   "execution_count": null,
   "metadata": {},
   "outputs": [],
   "source": [
    "#Yelp "
   ]
  },
  {
   "cell_type": "code",
   "execution_count": 1,
   "metadata": {},
   "outputs": [],
   "source": [
    "import pandas as pd\n",
    "import numpy as np\n",
    "import matplotlib.pyplot as plt\n",
    "import seaborn as sns\n",
    "import nltk\n",
    "from nltk.corpus import stopwords\n",
    "import string\n",
    "from sklearn.feature_extraction.text import CountVectorizer\n",
    "from sklearn.model_selection import GridSearchCV, PredefinedSplit\n",
    "from sklearn.svm import LinearSVC\n",
    "from sklearn.metrics import confusion_matrix, classification_report\n",
    "from sklearn.metrics import accuracy_score"
   ]
  },
  {
   "cell_type": "code",
   "execution_count": 21,
   "metadata": {},
   "outputs": [],
   "source": [
    "#load reviews\n",
    "train = pd.read_csv('yelp_data/yelp_2013_train.csv')\n",
    "valid = pd.read_csv('yelp_data/yelp_2013_dev.csv')\n",
    "test = pd.read_csv('yelp_data/yelp_2013_test.csv')\n",
    "\n",
    "#add review length to data frame\n",
    "#yelp['text length'] = yelp['text'].str.len()\n",
    "#random sample for testing purppses\n",
    "#yelp = yelp.sample(frac=.1)\n",
    "\n",
    "X_train = train['text']\n",
    "y_train = train['rating']\n",
    "X_valid = valid['text']\n",
    "y_valid = valid['rating']\n",
    "X_test = test['text']\n",
    "y_test = test['rating']"
   ]
  },
  {
   "cell_type": "code",
   "execution_count": 22,
   "metadata": {},
   "outputs": [
    {
     "name": "stdout",
     "output_type": "stream",
     "text": [
      "(268013,)\n",
      "(33501,)\n",
      "(33504,)\n"
     ]
    }
   ],
   "source": [
    "print(X_train.shape)\n",
    "print(X_valid.shape)\n",
    "print(X_test.shape)"
   ]
  },
  {
   "cell_type": "code",
   "execution_count": 23,
   "metadata": {},
   "outputs": [],
   "source": [
    "max_vocab = 10000\n",
    "bow_transformer = CountVectorizer(max_features=max_vocab).fit(X_train.values.astype('U'))"
   ]
  },
  {
   "cell_type": "code",
   "execution_count": 24,
   "metadata": {},
   "outputs": [],
   "source": [
    "X_train = bow_transformer.transform(X_train.values.astype('U'))\n",
    "X_valid = bow_transformer.transform(X_valid.values.astype('U'))\n",
    "X_test = bow_transformer.transform(X_test.values.astype('U'))"
   ]
  },
  {
   "cell_type": "code",
   "execution_count": 60,
   "metadata": {},
   "outputs": [],
   "source": [
    "from sklearn.model_selection import train_test_split\n",
    "#X_train, X_test, y_train, y_test = train_test_split(X, y, test_size=0.1, random_state=101)\n",
    "#X_train, X_valid, y_train, y_valid = train_test_split(X_train, y_train, test_size=0.2, random_state=101)\n"
   ]
  },
  {
   "cell_type": "code",
   "execution_count": 25,
   "metadata": {},
   "outputs": [
    {
     "name": "stdout",
     "output_type": "stream",
     "text": [
      "0.5534563037249284\n"
     ]
    }
   ],
   "source": [
    "from sklearn.naive_bayes import MultinomialNB\n",
    "\n",
    "nb = MultinomialNB()\n",
    "nb.fit(X_train, y_train)\n",
    "y_hat = nb.predict(X_test)\n",
    "\n",
    "print(accuracy_score(y_test, y_hat))"
   ]
  },
  {
   "cell_type": "code",
   "execution_count": 26,
   "metadata": {},
   "outputs": [
    {
     "name": "stdout",
     "output_type": "stream",
     "text": [
      "(301514,)\n",
      "(301514, 10000)\n"
     ]
    }
   ],
   "source": [
    "#SVM\n",
    "def linSVM(parameters, X, T, fold) : \n",
    "    n_folds = 3\n",
    "    svc = LinearSVC(multi_class='ovr')\n",
    "    svc_cv = GridSearchCV(svc, parameters, cv=fold, scoring=\"accuracy\", refit=False)\n",
    "    svc_cv.fit(X, T)\n",
    "    scores = svc_cv.cv_results_['mean_test_score']\n",
    "    params = svc_cv.cv_results_['params']\n",
    "    print('scores:',scores)\n",
    "   #print('params:',params)\n",
    "    return svc_cv.best_params_\n",
    "\n",
    "\n",
    "#Predefined Split for CV\n",
    "my_test_fold = []\n",
    "for i in range(X_train.shape[0]):\n",
    "    my_test_fold.append(-1)\n",
    "for i in range(X_valid.shape[0]):\n",
    "    my_test_fold.append(0)\n",
    "\n",
    "fold = PredefinedSplit(test_fold=my_test_fold)\n",
    "CV_split_T = np.append(y_train, y_valid)\n",
    "\n",
    "import scipy.sparse as sp\n",
    "CV_split_X = sp.vstack((X_train , X_valid))  # NOT np.vstack\n",
    "\n",
    "\n",
    "print(CV_split_T.shape)\n",
    "print(CV_split_X.shape)\n"
   ]
  },
  {
   "cell_type": "code",
   "execution_count": 27,
   "metadata": {},
   "outputs": [
    {
     "name": "stdout",
     "output_type": "stream",
     "text": [
      "0.575185052531041\n"
     ]
    }
   ],
   "source": [
    "#Cs = [ 0.00001, 0.0001, 0.001, 0.01, 0.1, 1, 10]\n",
    "#Cs = [.002, .003, .0045, .0055, .0065]\n",
    "#Cs = [.00201, .00202, .00203, .00204, .00205, .00206, .00207, .00208, .0209]\n",
    "#Cs = [.002045, .002047, .002049, .002051, .002053, .002055]\n",
    "param_grid = {'C': Cs}\n",
    "\n",
    "#bestParams = linSVM(param_grid, CV_split_X, CV_split_T, fold)\n",
    "\n",
    "svc = LinearSVC(C = .0205, multi_class='ovr')\n",
    "svc.fit(X_train, y_train)\n",
    "\n",
    "y_hat = svc.predict(X_test)\n",
    "print(accuracy_score(y_test, y_hat))"
   ]
  },
  {
   "cell_type": "code",
   "execution_count": 29,
   "metadata": {},
   "outputs": [
    {
     "name": "stdout",
     "output_type": "stream",
     "text": [
      "[[1939  347  120  179  274]\n",
      " [ 688  830  629  528  289]\n",
      " [ 208  425 1264 2208  655]\n",
      " [  88  114  548 5883 4349]\n",
      " [  71   24   87 2402 9355]]\n",
      "\n",
      "\n",
      "             precision    recall  f1-score   support\n",
      "\n",
      "          1       0.65      0.68      0.66      2859\n",
      "          2       0.48      0.28      0.35      2964\n",
      "          3       0.48      0.27      0.34      4760\n",
      "          4       0.53      0.54      0.53     10982\n",
      "          5       0.63      0.78      0.70     11939\n",
      "\n",
      "avg / total       0.56      0.58      0.56     33504\n",
      "\n",
      "0.575185052531041\n"
     ]
    }
   ],
   "source": [
    "\n",
    "\n",
    "print(confusion_matrix(y_test, y_hat))\n",
    "print('\\n')\n",
    "print(classification_report(y_test, y_hat))\n",
    "\n",
    "print(accuracy_score(y_test, y_hat))"
   ]
  }
 ],
 "metadata": {
  "kernelspec": {
   "display_name": "Python 3",
   "language": "python",
   "name": "python3"
  },
  "language_info": {
   "codemirror_mode": {
    "name": "ipython",
    "version": 3
   },
   "file_extension": ".py",
   "mimetype": "text/x-python",
   "name": "python",
   "nbconvert_exporter": "python",
   "pygments_lexer": "ipython3",
   "version": "3.6.5"
  }
 },
 "nbformat": 4,
 "nbformat_minor": 2
}
