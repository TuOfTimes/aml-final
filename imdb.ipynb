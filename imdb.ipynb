{
 "cells": [
  {
   "cell_type": "code",
   "execution_count": 1,
   "metadata": {},
   "outputs": [],
   "source": [
    "import pandas as pd\n",
    "import numpy as np\n",
    "import string\n",
    "from sklearn import metrics\n",
    "from sklearn.feature_extraction.text import CountVectorizer\n",
    "from sklearn.model_selection import GridSearchCV, PredefinedSplit\n",
    "from sklearn.svm import LinearSVC\n",
    "from sklearn.metrics import confusion_matrix, classification_report\n",
    "from sklearn.metrics import accuracy_score\n",
    "from sklearn import svm\n",
    "import scipy.sparse as sp\n",
    "import urllib.request\n"
   ]
  },
  {
   "cell_type": "code",
   "execution_count": 2,
   "metadata": {},
   "outputs": [
    {
     "name": "stdout",
     "output_type": "stream",
     "text": [
      "Downloading training\n",
      "Downloading validation\n",
      "Downloading testing\n"
     ]
    }
   ],
   "source": [
    "print(\"Downloading training\")\n",
    "train = urllib.request.urlretrieve (\"https://www.cs.mcgill.ca/~glluch/IMDB/IMDB_train.csv\", \"imdb_train.csv\")\n",
    "print(\"Downloading validation\")\n",
    "valid = urllib.request.urlretrieve (\"https://www.cs.mcgill.ca/~glluch/IMDB/IMDB_dev.csv\", \"imdb_dev.csv\")\n",
    "print(\"Downloading testing\")\n",
    "test = urllib.request.urlretrieve (\"https://www.cs.mcgill.ca/~glluch/IMDB/IMDB_test.csv\", \"imdb_test.csv\")"
   ]
  },
  {
   "cell_type": "code",
   "execution_count": 3,
   "metadata": {},
   "outputs": [],
   "source": [
    "train = pd.read_csv(train[0])\n",
    "test = pd.read_csv(test[0])\n",
    "valid = pd.read_csv(valid[0])\n",
    "\n",
    "X_train = train['text']\n",
    "y_train = train['rating']\n",
    "X_test = test['text']\n",
    "y_test= test['rating']\n",
    "X_valid = valid['text']\n",
    "y_valid = valid['rating']\n"
   ]
  },
  {
   "cell_type": "code",
   "execution_count": 4,
   "metadata": {},
   "outputs": [],
   "source": [
    "max_vocab = 50000\n",
    "bow_transformer = CountVectorizer(max_features=max_vocab, ngram_range=(1,1), binary=True).fit(X_train.values.astype('U'))\n"
   ]
  },
  {
   "cell_type": "code",
   "execution_count": 5,
   "metadata": {},
   "outputs": [],
   "source": [
    "X_train = bow_transformer.transform(X_train.values.astype('U'))\n",
    "X_valid = bow_transformer.transform(X_valid.values.astype('U'))\n",
    "X_test = bow_transformer.transform(X_test.values.astype('U'))"
   ]
  },
  {
   "cell_type": "code",
   "execution_count": null,
   "metadata": {},
   "outputs": [
    {
     "name": "stderr",
     "output_type": "stream",
     "text": [
      "[Parallel(n_jobs=1)]: Using backend SequentialBackend with 1 concurrent workers.\n"
     ]
    },
    {
     "name": "stdout",
     "output_type": "stream",
     "text": [
      "Building estimator 1 of 10 for this parallel run (total 10)...\n",
      "Building estimator 2 of 10 for this parallel run (total 10)...\n",
      "Building estimator 3 of 10 for this parallel run (total 10)...\n",
      "Building estimator 4 of 10 for this parallel run (total 10)...\n",
      "Building estimator 5 of 10 for this parallel run (total 10)...\n",
      "Building estimator 6 of 10 for this parallel run (total 10)...\n"
     ]
    }
   ],
   "source": [
    "# bagging with default\n",
    "from sklearn.ensemble import BaggingClassifier\n",
    "from sklearn.model_selection import cross_val_score\n",
    "\n",
    "bagging = BaggingClassifier(verbose=10)\n",
    "\n",
    "bagging.fit(X_train,y_train)\n",
    "bag_train = bagging.predict(X_train)\n",
    "bag_test = bagging.predict(X_test)\n",
    "\n",
    "\n"
   ]
  },
  {
   "cell_type": "code",
   "execution_count": null,
   "metadata": {},
   "outputs": [],
   "source": []
  }
 ],
 "metadata": {
  "kernelspec": {
   "display_name": "Python 3",
   "language": "python",
   "name": "python3"
  },
  "language_info": {
   "codemirror_mode": {
    "name": "ipython",
    "version": 3
   },
   "file_extension": ".py",
   "mimetype": "text/x-python",
   "name": "python",
   "nbconvert_exporter": "python",
   "pygments_lexer": "ipython3",
   "version": "3.6.7"
  }
 },
 "nbformat": 4,
 "nbformat_minor": 2
}
