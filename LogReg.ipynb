{
 "cells": [
  {
   "cell_type": "markdown",
   "metadata": {},
   "source": [
    "# Logistic Regression Baseline\n",
    "* assume data has already been cleaned\n",
    "\n",
    "## To Do:\n",
    "- run classifier\n",
    "- return metrics\n",
    "- consolidate code into methods so it can be called on multiple datasets"
   ]
  },
  {
   "cell_type": "code",
   "execution_count": 1,
   "metadata": {},
   "outputs": [],
   "source": [
    "import pandas as pd\n",
    "import numpy as np\n",
    "import string\n",
    "from sklearn.feature_extraction.text import CountVectorizer, TfidfTransformer\n",
    "from sklearn.model_selection import GridSearchCV, PredefinedSplit\n",
    "from sklearn.linear_model import LogisticRegression, LogisticRegressionCV # CV is cross validation\n",
    "from sklearn.metrics import confusion_matrix, classification_report\n",
    "from sklearn.metrics import accuracy_score\n",
    "from sklearn import svm"
   ]
  },
  {
   "cell_type": "code",
   "execution_count": 2,
   "metadata": {
    "scrolled": true
   },
   "outputs": [],
   "source": [
    "import urllib.request\n",
    "import os.path\n",
    "\n",
    "year='2014'\n",
    "path='data\\\\processed\\\\'\n",
    "if not os.path.exists(path+'yelp_'+year+'_train.csv'):\n",
    "    train = urllib.request.urlretrieve ('https://www.cs.mcgill.ca/~glluch/yelp_'+year+'/yelp_'+year+'_train.csv', path+'yelp_'+year+'_train.csv')\n",
    "else:\n",
    "    train = urllib.request.urlretrieve('file:'+os.path.abspath(path+'yelp_'+year+'_train.csv'))\n",
    "    \n",
    "if not os.path.exists(path+'yelp_'+year+'_dev.csv'):\n",
    "    valid = urllib.request.urlretrieve ('https://www.cs.mcgill.ca/~glluch/yelp_'+year+'/yelp_'+year+'_dev.csv', path+'yelp_'+year+'_dev.csv')\n",
    "else:\n",
    "    valid = urllib.request.urlretrieve('file:'+os.path.abspath('data/processed/yelp_'+year+'_dev.csv'))\n",
    "    \n",
    "if not os.path.exists(path+'yelp_'+year+'_test.csv'):\n",
    "    test = urllib.request.urlretrieve ('https://www.cs.mcgill.ca/~glluch/yelp_'+year+'/yelp_'+year+'_test.csv', path+'yelp_'+year+'_test.csv')\n",
    "else:\n",
    "    test = urllib.request.urlretrieve('file:'+os.path.abspath(path+'yelp_'+year+'_test.csv'))"
   ]
  },
  {
   "cell_type": "code",
   "execution_count": 3,
   "metadata": {},
   "outputs": [],
   "source": [
    "#load data\n",
    "train = pd.read_csv(train[0])\n",
    "test = pd.read_csv(test[0])\n",
    "valid = pd.read_csv(valid[0])\n",
    "\n",
    "Xtrain = train['text']\n",
    "y_train = train['rating']\n",
    "Xtest = test['text']\n",
    "y_test= test['rating']\n",
    "Xvalid = valid['text']\n",
    "y_valid = valid['rating']\n",
    "\n",
    "train = []\n",
    "valid = []\n",
    "test = []"
   ]
  },
  {
   "cell_type": "code",
   "execution_count": 4,
   "metadata": {},
   "outputs": [],
   "source": [
    "def logReg(X_train, y_train, X_test, y_test, cv=5):\n",
    "    logreg = LogisticRegressionCV(cv=cv, multi_class='multinomial').fit(X_train, y_train)\n",
    "    y_hat=logreg.predict(X_test)\n",
    "\n",
    "    print(confusion_matrix(y_test, y_hat))\n",
    "    print('\\n')\n",
    "    print(classification_report(y_test, y_hat))\n",
    "\n",
    "    print(accuracy_score(y_test, y_hat))\n",
    "    return logreg.get_params()"
   ]
  },
  {
   "cell_type": "code",
   "execution_count": 5,
   "metadata": {},
   "outputs": [],
   "source": [
    "max_vocab = 50000\n",
    "n=2"
   ]
  },
  {
   "cell_type": "code",
   "execution_count": 6,
   "metadata": {},
   "outputs": [],
   "source": [
    "bow_transformer = CountVectorizer(max_features=max_vocab, binary=True).fit(Xtrain.values.astype('U'))\n",
    "X_train = bow_transformer.transform(Xtrain.values.astype('U'))\n",
    "X_valid = bow_transformer.transform(Xvalid.values.astype('U'))\n",
    "X_test = bow_transformer.transform(Xtest.values.astype('U'))"
   ]
  },
  {
   "cell_type": "code",
   "execution_count": 9,
   "metadata": {},
   "outputs": [
    {
     "name": "stderr",
     "output_type": "stream",
     "text": [
      "c:\\users\\edward\\appdata\\local\\programs\\python\\python37\\lib\\site-packages\\sklearn\\linear_model\\logistic.py:758: ConvergenceWarning: lbfgs failed to converge. Increase the number of iterations.\n",
      "  \"of iterations.\", ConvergenceWarning)\n",
      "c:\\users\\edward\\appdata\\local\\programs\\python\\python37\\lib\\site-packages\\sklearn\\linear_model\\logistic.py:758: ConvergenceWarning: lbfgs failed to converge. Increase the number of iterations.\n",
      "  \"of iterations.\", ConvergenceWarning)\n",
      "c:\\users\\edward\\appdata\\local\\programs\\python\\python37\\lib\\site-packages\\sklearn\\linear_model\\logistic.py:758: ConvergenceWarning: lbfgs failed to converge. Increase the number of iterations.\n",
      "  \"of iterations.\", ConvergenceWarning)\n",
      "c:\\users\\edward\\appdata\\local\\programs\\python\\python37\\lib\\site-packages\\sklearn\\linear_model\\logistic.py:758: ConvergenceWarning: lbfgs failed to converge. Increase the number of iterations.\n",
      "  \"of iterations.\", ConvergenceWarning)\n",
      "c:\\users\\edward\\appdata\\local\\programs\\python\\python37\\lib\\site-packages\\sklearn\\linear_model\\logistic.py:758: ConvergenceWarning: lbfgs failed to converge. Increase the number of iterations.\n",
      "  \"of iterations.\", ConvergenceWarning)\n",
      "c:\\users\\edward\\appdata\\local\\programs\\python\\python37\\lib\\site-packages\\sklearn\\linear_model\\logistic.py:758: ConvergenceWarning: lbfgs failed to converge. Increase the number of iterations.\n",
      "  \"of iterations.\", ConvergenceWarning)\n"
     ]
    },
    {
     "name": "stdout",
     "output_type": "stream",
     "text": [
      "[[ 8063  1513   476   469   557]\n",
      " [ 2362  3602  2504  1244   562]\n",
      " [  697  1730  6301  6135  1514]\n",
      " [  269   380  2825 19007 11734]\n",
      " [  296   116   445  8061 31687]]\n",
      "\n",
      "\n",
      "              precision    recall  f1-score   support\n",
      "\n",
      "           1       0.69      0.73      0.71     11078\n",
      "           2       0.49      0.35      0.41     10274\n",
      "           3       0.50      0.38      0.44     16377\n",
      "           4       0.54      0.56      0.55     34215\n",
      "           5       0.69      0.78      0.73     40605\n",
      "\n",
      "   micro avg       0.61      0.61      0.61    112549\n",
      "   macro avg       0.58      0.56      0.57    112549\n",
      "weighted avg       0.60      0.61      0.60    112549\n",
      "\n",
      "0.6100454024469342\n"
     ]
    }
   ],
   "source": [
    "k=logReg(X_train,y_train, X_test, y_test)"
   ]
  },
  {
   "cell_type": "code",
   "execution_count": 10,
   "metadata": {},
   "outputs": [],
   "source": [
    "tf_transformer = TfidfTransformer(use_idf=False, smooth_idf=False, norm='l1') # check settings\n",
    "X_train = tf_transformer.fit_transform(X_train)\n",
    "X_valid = tf_transformer.transform(X_valid)\n",
    "X_test = tf_transformer.transform(X_test)"
   ]
  },
  {
   "cell_type": "code",
   "execution_count": 11,
   "metadata": {},
   "outputs": [
    {
     "name": "stderr",
     "output_type": "stream",
     "text": [
      "c:\\users\\edward\\appdata\\local\\programs\\python\\python37\\lib\\site-packages\\sklearn\\linear_model\\logistic.py:758: ConvergenceWarning: lbfgs failed to converge. Increase the number of iterations.\n",
      "  \"of iterations.\", ConvergenceWarning)\n",
      "c:\\users\\edward\\appdata\\local\\programs\\python\\python37\\lib\\site-packages\\sklearn\\linear_model\\logistic.py:758: ConvergenceWarning: lbfgs failed to converge. Increase the number of iterations.\n",
      "  \"of iterations.\", ConvergenceWarning)\n",
      "c:\\users\\edward\\appdata\\local\\programs\\python\\python37\\lib\\site-packages\\sklearn\\linear_model\\logistic.py:758: ConvergenceWarning: lbfgs failed to converge. Increase the number of iterations.\n",
      "  \"of iterations.\", ConvergenceWarning)\n",
      "c:\\users\\edward\\appdata\\local\\programs\\python\\python37\\lib\\site-packages\\sklearn\\linear_model\\logistic.py:758: ConvergenceWarning: lbfgs failed to converge. Increase the number of iterations.\n",
      "  \"of iterations.\", ConvergenceWarning)\n",
      "c:\\users\\edward\\appdata\\local\\programs\\python\\python37\\lib\\site-packages\\sklearn\\linear_model\\logistic.py:758: ConvergenceWarning: lbfgs failed to converge. Increase the number of iterations.\n",
      "  \"of iterations.\", ConvergenceWarning)\n",
      "c:\\users\\edward\\appdata\\local\\programs\\python\\python37\\lib\\site-packages\\sklearn\\linear_model\\logistic.py:758: ConvergenceWarning: lbfgs failed to converge. Increase the number of iterations.\n",
      "  \"of iterations.\", ConvergenceWarning)\n"
     ]
    },
    {
     "name": "stdout",
     "output_type": "stream",
     "text": [
      "[[ 8088  1563   489   405   533]\n",
      " [ 2407  3375  2611  1331   550]\n",
      " [  774  1580  5866  6780  1377]\n",
      " [  375   383  2496 20246 10715]\n",
      " [  452   136   453  9118 30446]]\n",
      "\n",
      "\n",
      "              precision    recall  f1-score   support\n",
      "\n",
      "           1       0.67      0.73      0.70     11078\n",
      "           2       0.48      0.33      0.39     10274\n",
      "           3       0.49      0.36      0.41     16377\n",
      "           4       0.53      0.59      0.56     34215\n",
      "           5       0.70      0.75      0.72     40605\n",
      "\n",
      "   micro avg       0.60      0.60      0.60    112549\n",
      "   macro avg       0.57      0.55      0.56    112549\n",
      "weighted avg       0.60      0.60      0.60    112549\n",
      "\n",
      "0.6043678753254138\n"
     ]
    }
   ],
   "source": [
    "k=logReg(X_train,y_train, X_test, y_test)"
   ]
  },
  {
   "cell_type": "code",
   "execution_count": 6,
   "metadata": {},
   "outputs": [],
   "source": [
    "ngram_transformer = CountVectorizer(max_features=max_vocab, ngram_range=(1,n), binary=True).fit(Xtrain.values.astype('U'))\n",
    "\n",
    "X_train = ngram_transformer.transform(Xtrain.values.astype('U'))\n",
    "X_valid = ngram_transformer.transform(Xvalid.values.astype('U'))\n",
    "X_test = ngram_transformer.transform(Xtest.values.astype('U'))"
   ]
  },
  {
   "cell_type": "code",
   "execution_count": 7,
   "metadata": {},
   "outputs": [
    {
     "name": "stderr",
     "output_type": "stream",
     "text": [
      "c:\\users\\edward\\appdata\\local\\programs\\python\\python37\\lib\\site-packages\\sklearn\\linear_model\\logistic.py:758: ConvergenceWarning: lbfgs failed to converge. Increase the number of iterations.\n",
      "  \"of iterations.\", ConvergenceWarning)\n",
      "c:\\users\\edward\\appdata\\local\\programs\\python\\python37\\lib\\site-packages\\sklearn\\linear_model\\logistic.py:758: ConvergenceWarning: lbfgs failed to converge. Increase the number of iterations.\n",
      "  \"of iterations.\", ConvergenceWarning)\n",
      "c:\\users\\edward\\appdata\\local\\programs\\python\\python37\\lib\\site-packages\\sklearn\\linear_model\\logistic.py:758: ConvergenceWarning: lbfgs failed to converge. Increase the number of iterations.\n",
      "  \"of iterations.\", ConvergenceWarning)\n",
      "c:\\users\\edward\\appdata\\local\\programs\\python\\python37\\lib\\site-packages\\sklearn\\linear_model\\logistic.py:758: ConvergenceWarning: lbfgs failed to converge. Increase the number of iterations.\n",
      "  \"of iterations.\", ConvergenceWarning)\n",
      "c:\\users\\edward\\appdata\\local\\programs\\python\\python37\\lib\\site-packages\\sklearn\\linear_model\\logistic.py:758: ConvergenceWarning: lbfgs failed to converge. Increase the number of iterations.\n",
      "  \"of iterations.\", ConvergenceWarning)\n",
      "c:\\users\\edward\\appdata\\local\\programs\\python\\python37\\lib\\site-packages\\sklearn\\linear_model\\logistic.py:758: ConvergenceWarning: lbfgs failed to converge. Increase the number of iterations.\n",
      "  \"of iterations.\", ConvergenceWarning)\n"
     ]
    },
    {
     "name": "stdout",
     "output_type": "stream",
     "text": [
      "[[ 8182  1650   445   358   443]\n",
      " [ 2243  4136  2534   938   423]\n",
      " [  644  1835  6984  5650  1264]\n",
      " [  238   329  2858 19634 11156]\n",
      " [  225    92   385  7924 31979]]\n",
      "\n",
      "\n",
      "              precision    recall  f1-score   support\n",
      "\n",
      "           1       0.71      0.74      0.72     11078\n",
      "           2       0.51      0.40      0.45     10274\n",
      "           3       0.53      0.43      0.47     16377\n",
      "           4       0.57      0.57      0.57     34215\n",
      "           5       0.71      0.79      0.74     40605\n",
      "\n",
      "   micro avg       0.63      0.63      0.63    112549\n",
      "   macro avg       0.61      0.59      0.59    112549\n",
      "weighted avg       0.62      0.63      0.62    112549\n",
      "\n",
      "0.6300811202231916\n"
     ]
    }
   ],
   "source": [
    "k=logReg(X_train,y_train, X_test, y_test)"
   ]
  },
  {
   "cell_type": "code",
   "execution_count": 8,
   "metadata": {},
   "outputs": [],
   "source": [
    "tf_transformer = TfidfTransformer(use_idf=False, smooth_idf=False, norm='l1') # check settings\n",
    "X_train = tf_transformer.fit_transform(X_train)\n",
    "X_valid = tf_transformer.transform(X_valid)\n",
    "X_test = tf_transformer.transform(X_test)"
   ]
  },
  {
   "cell_type": "code",
   "execution_count": 9,
   "metadata": {},
   "outputs": [
    {
     "name": "stderr",
     "output_type": "stream",
     "text": [
      "c:\\users\\edward\\appdata\\local\\programs\\python\\python37\\lib\\site-packages\\sklearn\\linear_model\\logistic.py:758: ConvergenceWarning: lbfgs failed to converge. Increase the number of iterations.\n",
      "  \"of iterations.\", ConvergenceWarning)\n",
      "c:\\users\\edward\\appdata\\local\\programs\\python\\python37\\lib\\site-packages\\sklearn\\linear_model\\logistic.py:758: ConvergenceWarning: lbfgs failed to converge. Increase the number of iterations.\n",
      "  \"of iterations.\", ConvergenceWarning)\n",
      "c:\\users\\edward\\appdata\\local\\programs\\python\\python37\\lib\\site-packages\\sklearn\\linear_model\\logistic.py:758: ConvergenceWarning: lbfgs failed to converge. Increase the number of iterations.\n",
      "  \"of iterations.\", ConvergenceWarning)\n",
      "c:\\users\\edward\\appdata\\local\\programs\\python\\python37\\lib\\site-packages\\sklearn\\linear_model\\logistic.py:758: ConvergenceWarning: lbfgs failed to converge. Increase the number of iterations.\n",
      "  \"of iterations.\", ConvergenceWarning)\n",
      "c:\\users\\edward\\appdata\\local\\programs\\python\\python37\\lib\\site-packages\\sklearn\\linear_model\\logistic.py:758: ConvergenceWarning: lbfgs failed to converge. Increase the number of iterations.\n",
      "  \"of iterations.\", ConvergenceWarning)\n",
      "c:\\users\\edward\\appdata\\local\\programs\\python\\python37\\lib\\site-packages\\sklearn\\linear_model\\logistic.py:758: ConvergenceWarning: lbfgs failed to converge. Increase the number of iterations.\n",
      "  \"of iterations.\", ConvergenceWarning)\n"
     ]
    },
    {
     "name": "stdout",
     "output_type": "stream",
     "text": [
      "[[ 8146  1567   542   383   440]\n",
      " [ 2260  3565  2812  1180   457]\n",
      " [  692  1430  6527  6611  1117]\n",
      " [  320   294  2435 21100 10066]\n",
      " [  385   111   410  9074 30625]]\n",
      "\n",
      "\n",
      "              precision    recall  f1-score   support\n",
      "\n",
      "           1       0.69      0.74      0.71     11078\n",
      "           2       0.51      0.35      0.41     10274\n",
      "           3       0.51      0.40      0.45     16377\n",
      "           4       0.55      0.62      0.58     34215\n",
      "           5       0.72      0.75      0.74     40605\n",
      "\n",
      "   micro avg       0.62      0.62      0.62    112549\n",
      "   macro avg       0.60      0.57      0.58    112549\n",
      "weighted avg       0.62      0.62      0.62    112549\n",
      "\n",
      "0.621622582164213\n"
     ]
    }
   ],
   "source": [
    "k=logReg(X_train,y_train, X_test, y_test)"
   ]
  },
  {
   "cell_type": "code",
   "execution_count": null,
   "metadata": {},
   "outputs": [],
   "source": []
  }
 ],
 "metadata": {
  "kernelspec": {
   "display_name": "Python 3",
   "language": "python",
   "name": "python3"
  },
  "language_info": {
   "codemirror_mode": {
    "name": "ipython",
    "version": 3
   },
   "file_extension": ".py",
   "mimetype": "text/x-python",
   "name": "python",
   "nbconvert_exporter": "python",
   "pygments_lexer": "ipython3",
   "version": "3.7.1"
  }
 },
 "nbformat": 4,
 "nbformat_minor": 2
}
