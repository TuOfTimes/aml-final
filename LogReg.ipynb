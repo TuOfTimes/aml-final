{
 "cells": [
  {
   "cell_type": "code",
   "execution_count": null,
   "metadata": {},
   "outputs": [],
   "source": [
    "# logistic regression baseline. assume that data has already been cleaned"
   ]
  },
  {
   "cell_type": "code",
   "execution_count": 2,
   "metadata": {},
   "outputs": [],
   "source": [
    "import pandas as pd\n",
    "import numpy as np\n",
    "import string\n",
    "from sklearn.feature_extraction.text import CountVectorizer, TfidfTransformer\n",
    "from sklearn.model_selection import GridSearchCV, PredefinedSplit\n",
    "from sklearn.linear_model import LogisticRegression, LogisticRegressionCV # CV is cross validation\n",
    "from sklearn.metrics import confusion_matrix, classification_report\n",
    "from sklearn.metrics import accuracy_score\n",
    "from sklearn import svm"
   ]
  },
  {
   "cell_type": "code",
   "execution_count": 11,
   "metadata": {
    "scrolled": true
   },
   "outputs": [],
   "source": [
    "import urllib.request\n",
    "import os.path\n",
    "\n",
    "if not os.path.exists('data/processed/yelp_2013_train.csv'):\n",
    "    train = urllib.request.urlretrieve (\"https://www.cs.mcgill.ca/~glluch/yelp_2013/yelp_2013_train.csv\", \"data/processed/yelp_2013_train.csv\")\n",
    "else:\n",
    "    train = urllib.request.urlretrieve(\"file://\"+os.path.abspath(\"data/processed/yelp_2013_train.csv\"))\n",
    "    \n",
    "if not os.path.exists('data/processed/yelp_2013_dev.csv'):\n",
    "    valid = urllib.request.urlretrieve (\"https://www.cs.mcgill.ca/~glluch/yelp_2013/yelp_2013_dev.csv\", \"data/processed/yelp_2013_dev.csv\")\n",
    "else:\n",
    "    train = urllib.request.urlretrieve(\"file://\"+os.path.abspath(\"data/processed/yelp_2013_dev.csv\"))\n",
    "    \n",
    "if not os.path.exists('data/processed/yelp_2013_test.csv'):\n",
    "    test = urllib.request.urlretrieve (\"https://www.cs.mcgill.ca/~glluch/yelp_2013/yelp_2013_test.csv\", \"data/processed/yelp_2013_test.csv\")\n",
    "else:\n",
    "    train = urllib.request.urlretrieve(\"file://\"+os.path.abspath(\"data/processed/yelp_2013_test.csv\"))"
   ]
  },
  {
   "cell_type": "code",
   "execution_count": 3,
   "metadata": {},
   "outputs": [],
   "source": [
    "#load data\n",
    "train = pd.read_csv(train[0])\n",
    "test = pd.read_csv(test[0])\n",
    "valid = pd.read_csv(valid[0])\n",
    "\n",
    "X_train = train['text']\n",
    "y_train = train['rating']\n",
    "X_test = test['text']\n",
    "y_test= test['rating']\n",
    "X_valid = valid['text']\n",
    "y_valid = valid['rating']"
   ]
  },
  {
   "cell_type": "code",
   "execution_count": null,
   "metadata": {},
   "outputs": [],
   "source": [
    "max_vocab = 50000\n",
    "tf_idf = True\n",
    "bow_transformer = CountVectorizer(max_features=max_vocab, ngram_range=(1,1), binary=True).fit(X_train.values.astype('U'))"
   ]
  },
  {
   "cell_type": "code",
   "execution_count": null,
   "metadata": {},
   "outputs": [],
   "source": [
    "train = []\n",
    "valid = []\n",
    "test = []\n",
    "\n",
    "X_train = bow_transformer.transform(X_train.values.astype('U'))\n",
    "X_valid = bow_transformer.transform(X_valid.values.astype('U'))\n",
    "X_test = bow_transformer.transform(X_test.values.astype('U'))"
   ]
  },
  {
   "cell_type": "code",
   "execution_count": null,
   "metadata": {},
   "outputs": [],
   "source": [
    "if tf_idf:\n",
    "    tf_transformer = TfidfTransformer(use_idf=False, smooth_idf=False, norm='l1') # check settings\n",
    "    X_train = tf_transformer.fit_transform(X_train)\n",
    "    X_valid = tf_transformer.transform(X_valid)\n",
    "    X_test = tf_transformer.transform(X_test)"
   ]
  },
  {
   "cell_type": "code",
   "execution_count": null,
   "metadata": {},
   "outputs": [],
   "source": [
    "def logReg(X_train, y_train, cv=5):\n",
    "    LogisticRegressionCV(cv=cv, random_state=0, multi_class='multinomial').fit(X_train, y_train)"
   ]
  }
 ],
 "metadata": {
  "kernelspec": {
   "display_name": "Python 3",
   "language": "python",
   "name": "python3"
  },
  "language_info": {
   "codemirror_mode": {
    "name": "ipython",
    "version": 3
   },
   "file_extension": ".py",
   "mimetype": "text/x-python",
   "name": "python",
   "nbconvert_exporter": "python",
   "pygments_lexer": "ipython3",
   "version": "3.5.2"
  }
 },
 "nbformat": 4,
 "nbformat_minor": 2
}
