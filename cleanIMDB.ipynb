{
 "cells": [
  {
   "cell_type": "code",
   "execution_count": null,
   "metadata": {},
   "outputs": [],
   "source": [
    "#imdb"
   ]
  },
  {
   "cell_type": "code",
   "execution_count": 5,
   "metadata": {},
   "outputs": [],
   "source": [
    "import pandas as pd\n",
    "import numpy as np\n",
    "import matplotlib.pyplot as plt\n",
    "import seaborn as sns\n",
    "import nltk\n",
    "from nltk.corpus import stopwords\n",
    "import string\n",
    "from sklearn.feature_extraction.text import CountVectorizer\n",
    "from sklearn.model_selection import GridSearchCV, PredefinedSplit\n",
    "from sklearn.svm import LinearSVC"
   ]
  },
  {
   "cell_type": "code",
   "execution_count": 13,
   "metadata": {
    "scrolled": true
   },
   "outputs": [
    {
     "name": "stdout",
     "output_type": "stream",
     "text": [
      "10\n",
      "this short film was included several years ago in a documentary about thomas edison and his early movie-making experiments .  it 's timeless - an absolute classic !  the video itself is jumpy and splotchy , and primitive by even the earliest silent film standards .  but by anyone 's measure , the dancer is amazingly good , and this peek into the distant past is well worth watching , if the opportunity arises .  it would be nice if someone put together for commercial sale a collection of very early experimental film projects like this one .  few are likely to be as fascinating as this , but it 's amazing to see how dramatically video technology has changed - and how relatively little change there has been in our entertainment preferences . \n",
      "\n"
     ]
    },
    {
     "data": {
      "text/plain": [
       "<function TextIOWrapper.close()>"
      ]
     },
     "execution_count": 13,
     "metadata": {},
     "output_type": "execute_result"
    }
   ],
   "source": [
    "f=open(\"data/imdb-train.txt.ss\", 'r', encoding='utf-8')\n",
    "lines=f.readlines()\n",
    "\n",
    "ratings = []\n",
    "reviews  = []\n",
    "for x in lines : \n",
    "    x = x.split('\\t')\n",
    "    rating = x[4]\n",
    "    ratings.append(rating)\n",
    "    text = x[6]\n",
    "    text = text.replace('<sssss>', \"\")\n",
    "    text = text.replace('-rrb-', \"\")\n",
    "    text = text.replace('-lrb-', \"\")\n",
    "    reviews.append(text)\n",
    "\n",
    "print(ratings[0])\n",
    "print(reviews[0])\n",
    "\n",
    "f.close"
   ]
  },
  {
   "cell_type": "code",
   "execution_count": 14,
   "metadata": {},
   "outputs": [],
   "source": [
    "#remove capitalization, stopwords, and punctuation\n",
    "def process(text) : \n",
    "    #remove punctuation/captizalization\n",
    "    text = str(text)\n",
    "    text = text.lower()\n",
    "    nopunc = [char for char in text if char not in string.punctuation]\n",
    "    nopunc = ''.join(nopunc)\n",
    "    #remove stopwords\n",
    "    return [word for word in nopunc.split() if word.lower() not in stopwords.words('english')]\n"
   ]
  },
  {
   "cell_type": "code",
   "execution_count": null,
   "metadata": {},
   "outputs": [],
   "source": [
    "for i in range( len ( reviews ) ) : \n",
    "    reviews[i] = ' '.join(process(reviews[i]))"
   ]
  },
  {
   "cell_type": "code",
   "execution_count": 11,
   "metadata": {},
   "outputs": [],
   "source": [
    "text = np.array(reviews)\n",
    "rating = np.array(ratings)\n",
    "\n",
    "\n",
    "df = pd.DataFrame({\"text\" : text, \"rating\" : rating})\n",
    "df.to_csv(\"IMDB_dev.csv\", index=False)"
   ]
  }
 ],
 "metadata": {
  "kernelspec": {
   "display_name": "Python 3",
   "language": "python",
   "name": "python3"
  },
  "language_info": {
   "codemirror_mode": {
    "name": "ipython",
    "version": 3
   },
   "file_extension": ".py",
   "mimetype": "text/x-python",
   "name": "python",
   "nbconvert_exporter": "python",
   "pygments_lexer": "ipython3",
   "version": "3.6.7"
  }
 },
 "nbformat": 4,
 "nbformat_minor": 2
}
