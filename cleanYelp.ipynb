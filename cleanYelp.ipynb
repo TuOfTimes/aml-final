{
 "cells": [
  {
   "cell_type": "code",
   "execution_count": null,
   "metadata": {},
   "outputs": [],
   "source": [
    "#imdb"
   ]
  },
  {
   "cell_type": "code",
   "execution_count": 1,
   "metadata": {},
   "outputs": [],
   "source": [
    "import pandas as pd\n",
    "import numpy as np\n",
    "import string\n",
    "import nltk\n",
    "from nltk.corpus import stopwords"
   ]
  },
  {
   "cell_type": "code",
   "execution_count": 2,
   "metadata": {},
   "outputs": [],
   "source": [
    "#remove capitalization, stopwords, and punctuation\n",
    "def process(text) : \n",
    "    #remove punctuation/captizalization\n",
    "    text = str(text)\n",
    "    text = text.lower()\n",
    "    nopunc = [char for char in text if char not in string.punctuation]\n",
    "    nopunc = ''.join(nopunc)\n",
    "    #remove stopwords\n",
    "    return [word for word in nopunc.split() if word.lower() not in stopwords.words('english')]\n"
   ]
  },
  {
   "cell_type": "code",
   "execution_count": 38,
   "metadata": {},
   "outputs": [],
   "source": [
    "\n",
    "\n",
    "def cleanAndSave(src, dest) : \n",
    "    f=open(src, 'r', encoding='utf-8')\n",
    "    lines=f.readlines()\n",
    "    f.close()\n",
    "    ratings = []\n",
    "    reviews  = []\n",
    "    #counter = 0\n",
    "    for x in lines : \n",
    "        #counter += 1\n",
    "        x = x.split('\\t')\n",
    "        rating = ''\n",
    "        text = ''\n",
    "        try: \n",
    "            rating = x[4]\n",
    "            text = x[6]\n",
    "        except IndexError:\n",
    "            continue\n",
    "        ratings.append(rating)\n",
    "        text = text.replace('<sssss>', \"\")\n",
    "        text = text.replace('-rrb-', \"\")\n",
    "        text = text.replace('-lrb-', \"\")\n",
    "        text = process(text)\n",
    "        text = ' '.join(text)\n",
    "        reviews.append(text)\n",
    "    text = np.array(reviews)\n",
    "    rating = np.array(ratings)\n",
    "    df = pd.DataFrame({\"text\" : text, \"rating\" : rating})\n",
    "    df.to_csv(dest, index=False)\n",
    "    print(reviews[0])\n",
    "    print(ratings[0])\n",
    "    \n"
   ]
  },
  {
   "cell_type": "code",
   "execution_count": 31,
   "metadata": {},
   "outputs": [
    {
     "name": "stdout",
     "output_type": "stream",
     "text": [
      "0\n"
     ]
    }
   ],
   "source": [
    "print(counter)"
   ]
  },
  {
   "cell_type": "code",
   "execution_count": 14,
   "metadata": {},
   "outputs": [
    {
     "name": "stdout",
     "output_type": "stream",
     "text": [
      "['Ug_fBMOZMSJNzWbqi3iAIQ', '', 'n901hnWZPxVu3kDjQ3XXHQ', '', '1', '', 'awful ! <sssss> this company looses your items and doesnt seem to care . <sssss> absolute worst experience . <sssss> do not hire !!!!!! \\n']\n"
     ]
    }
   ],
   "source": [
    "f=open('yelp_data/yelp-2015-train.txt.ss', 'r', encoding='utf-8')\n",
    "lines=f.readlines()\n",
    "print(lines[1].split('\\t') )\n",
    "f.close()"
   ]
  },
  {
   "cell_type": "code",
   "execution_count": 39,
   "metadata": {
    "scrolled": true
   },
   "outputs": [
    {
     "name": "stdout",
     "output_type": "stream",
     "text": [
      "night went toward end season guess close summer airconditioning totally miserable driven long way get went use ladies room reeked sewer gas peeyoo overpriced restaurant including food appetizers even used groupon talked squash buttons appetizer 1600 plate 2 buttons ca nt recall entree husband memorable definitely going back nt care offer thousand groupons see one currently\n",
      "1\n"
     ]
    }
   ],
   "source": [
    "#cleanAndSave('yelp_data/yelp-2014-train.txt.ss', 'yelp_data/yelp_2014_train.csv')\n",
    "#cleanAndSave('yelp_data/yelp-2015-test.txt.ss', 'yelp_data/yelp_2015_test.csv')\n",
    "#cleanAndSave('yelp_data/yelp-2015-dev.txt.ss', 'yelp_data/yelp_2015_dev.csv')\n",
    "cleanAndSave('yelp_data/yelp-2015-train.txt.ss', 'yelp_data/yelp_2015_train.csv')"
   ]
  }
 ],
 "metadata": {
  "kernelspec": {
   "display_name": "Python 3",
   "language": "python",
   "name": "python3"
  },
  "language_info": {
   "codemirror_mode": {
    "name": "ipython",
    "version": 3
   },
   "file_extension": ".py",
   "mimetype": "text/x-python",
   "name": "python",
   "nbconvert_exporter": "python",
   "pygments_lexer": "ipython3",
   "version": "3.6.5"
  }
 },
 "nbformat": 4,
 "nbformat_minor": 2
}
