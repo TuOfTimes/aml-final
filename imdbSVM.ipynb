{
 "cells": [
  {
   "cell_type": "code",
   "execution_count": null,
   "metadata": {},
   "outputs": [],
   "source": [
    "#IMDB GIT"
   ]
  },
  {
   "cell_type": "code",
   "execution_count": 5,
   "metadata": {},
   "outputs": [],
   "source": [
    "import pandas as pd\n",
    "import numpy as np\n",
    "import nltk\n",
    "from nltk.corpus import stopwords\n",
    "import string\n",
    "from sklearn.feature_extraction.text import CountVectorizer\n",
    "from sklearn.model_selection import GridSearchCV, PredefinedSplit\n",
    "from sklearn.svm import LinearSVC\n",
    "from sklearn.metrics import confusion_matrix, classification_report\n",
    "from sklearn.metrics import accuracy_score\n",
    "from sklearn import svm"
   ]
  },
  {
   "cell_type": "code",
   "execution_count": 2,
   "metadata": {},
   "outputs": [],
   "source": [
    "import urllib.request\n",
    "\n",
    "train = urllib.request.urlretrieve (\"https://www.cs.mcgill.ca/~glluch/yelp_2013/yelp_2013_train.csv\", \"yelp_2013_train.csv\")\n",
    "valid = urllib.request.urlretrieve (\"https://www.cs.mcgill.ca/~glluch/yelp_2013/yelp_2013_dev.csv\", \"yelp_2013_dev.csv\")\n",
    "test = urllib.request.urlretrieve (\"https://www.cs.mcgill.ca/~glluch/yelp_2013/yelp_2013_test.csv\", \"yelp_2013_test.csv\")\n",
    "\n"
   ]
  },
  {
   "cell_type": "code",
   "execution_count": 8,
   "metadata": {},
   "outputs": [
    {
     "name": "stdout",
     "output_type": "stream",
     "text": [
      "<class 'tuple'>\n"
     ]
    }
   ],
   "source": [
    "print(type(data))"
   ]
  },
  {
   "cell_type": "code",
   "execution_count": 12,
   "metadata": {},
   "outputs": [
    {
     "ename": "NameError",
     "evalue": "name 'train' is not defined",
     "output_type": "error",
     "traceback": [
      "\u001b[0;31m---------------------------------------------------------------------------\u001b[0m",
      "\u001b[0;31mNameError\u001b[0m                                 Traceback (most recent call last)",
      "\u001b[0;32m<ipython-input-12-3c778e1b5351>\u001b[0m in \u001b[0;36m<module>\u001b[0;34m()\u001b[0m\n\u001b[1;32m      1\u001b[0m \u001b[0;31m#load reviews\u001b[0m\u001b[0;34m\u001b[0m\u001b[0;34m\u001b[0m\u001b[0m\n\u001b[0;32m----> 2\u001b[0;31m \u001b[0mtrain\u001b[0m \u001b[0;34m=\u001b[0m \u001b[0mpd\u001b[0m\u001b[0;34m.\u001b[0m\u001b[0mread_csv\u001b[0m\u001b[0;34m(\u001b[0m\u001b[0mtrain\u001b[0m\u001b[0;34m[\u001b[0m\u001b[0;36m0\u001b[0m\u001b[0;34m]\u001b[0m\u001b[0;34m)\u001b[0m\u001b[0;34m\u001b[0m\u001b[0m\n\u001b[0m\u001b[1;32m      3\u001b[0m \u001b[0mtest\u001b[0m \u001b[0;34m=\u001b[0m \u001b[0mpd\u001b[0m\u001b[0;34m.\u001b[0m\u001b[0mread_csv\u001b[0m\u001b[0;34m(\u001b[0m\u001b[0mtest\u001b[0m\u001b[0;34m[\u001b[0m\u001b[0;36m0\u001b[0m\u001b[0;34m]\u001b[0m\u001b[0;34m)\u001b[0m\u001b[0;34m\u001b[0m\u001b[0m\n\u001b[1;32m      4\u001b[0m \u001b[0mvalid\u001b[0m \u001b[0;34m=\u001b[0m \u001b[0mpd\u001b[0m\u001b[0;34m.\u001b[0m\u001b[0mread_csv\u001b[0m\u001b[0;34m(\u001b[0m\u001b[0mvalid\u001b[0m\u001b[0;34m[\u001b[0m\u001b[0;36m0\u001b[0m\u001b[0;34m]\u001b[0m\u001b[0;34m)\u001b[0m\u001b[0;34m\u001b[0m\u001b[0m\n\u001b[1;32m      5\u001b[0m \u001b[0;34m\u001b[0m\u001b[0m\n",
      "\u001b[0;31mNameError\u001b[0m: name 'train' is not defined"
     ]
    }
   ],
   "source": [
    "#load reviews\n",
    "train = pd.read_csv(train[0])\n",
    "test = pd.read_csv(test[0])\n",
    "valid = pd.read_csv(valid[0])\n",
    "\n",
    "#add review length to data framce\n",
    "#yelp['text length'] = yelp['text'].str.len()\n",
    "\n",
    "#sample for testing purppses\n",
    "#yelp = yelp.sample(frac=.5)\n",
    "\n",
    "X_train = train['text']\n",
    "y_train = train['rating']\n",
    "X_test = test['text']\n",
    "y_test= test['rating']\n",
    "X_valid = valid['text']\n",
    "y_valid = valid['rating']\n",
    "\n"
   ]
  },
  {
   "cell_type": "code",
   "execution_count": null,
   "metadata": {},
   "outputs": [],
   "source": []
  },
  {
   "cell_type": "code",
   "execution_count": 3,
   "metadata": {},
   "outputs": [],
   "source": [
    "max_vocab = 50000\n",
    "bow_transformer = CountVectorizer(max_features=max_vocab, binary=True).fit(X_train.values.astype('U'))"
   ]
  },
  {
   "cell_type": "code",
   "execution_count": 4,
   "metadata": {
    "scrolled": true
   },
   "outputs": [
    {
     "name": "stdout",
     "output_type": "stream",
     "text": [
      "(280593,)\n",
      "(34029,)\n",
      "(33793,)\n"
     ]
    }
   ],
   "source": [
    "print(X_train.shape)\n",
    "print(X_test.shape)\n",
    "print(X_valid.shape)\n",
    "train = []\n",
    "valid = []\n",
    "test = []\n",
    "\n",
    "X_train = bow_transformer.transform(X_train.values.astype('U'))\n",
    "X_valid = bow_transformer.transform(X_valid.values.astype('U'))\n",
    "X_test = bow_transformer.transform(X_test.values.astype('U'))"
   ]
  },
  {
   "cell_type": "code",
   "execution_count": 13,
   "metadata": {},
   "outputs": [
    {
     "data": {
      "text/plain": [
       "'\\nfrom sklearn.naive_bayes import MultinomialNB\\nimport scipy.sparse as sp\\n\\nX_full = sp.vstack((X_train , X_valid))\\ny_full = np.append(y_train, y_valid)\\n\\nnb = MultinomialNB()\\nnb.fit(X_full, y_full)\\ny_hat = nb.predict(X_test)\\n\\nprint(accuracy_score(y_test, y_hat))\\n'"
      ]
     },
     "execution_count": 13,
     "metadata": {},
     "output_type": "execute_result"
    }
   ],
   "source": [
    "'''\n",
    "from sklearn.naive_bayes import MultinomialNB\n",
    "import scipy.sparse as sp\n",
    "\n",
    "X_full = sp.vstack((X_train , X_valid))\n",
    "y_full = np.append(y_train, y_valid)\n",
    "\n",
    "nb = MultinomialNB()\n",
    "nb.fit(X_full, y_full)\n",
    "y_hat = nb.predict(X_test)\n",
    "\n",
    "print(accuracy_score(y_test, y_hat))\n",
    "'''"
   ]
  },
  {
   "cell_type": "code",
   "execution_count": 9,
   "metadata": {},
   "outputs": [
    {
     "name": "stdout",
     "output_type": "stream",
     "text": [
      "<class 'numpy.int64'>\n"
     ]
    }
   ],
   "source": []
  },
  {
   "cell_type": "code",
   "execution_count": 14,
   "metadata": {},
   "outputs": [
    {
     "ename": "NameError",
     "evalue": "name 'X_train' is not defined",
     "output_type": "error",
     "traceback": [
      "\u001b[0;31m---------------------------------------------------------------------------\u001b[0m",
      "\u001b[0;31mNameError\u001b[0m                                 Traceback (most recent call last)",
      "\u001b[0;32m<ipython-input-14-b15ad69a47b9>\u001b[0m in \u001b[0;36m<module>\u001b[0;34m()\u001b[0m\n\u001b[1;32m     25\u001b[0m \u001b[0;31m#Predefined Split for CV\u001b[0m\u001b[0;34m\u001b[0m\u001b[0;34m\u001b[0m\u001b[0m\n\u001b[1;32m     26\u001b[0m \u001b[0mmy_test_fold\u001b[0m \u001b[0;34m=\u001b[0m \u001b[0;34m[\u001b[0m\u001b[0;34m]\u001b[0m\u001b[0;34m\u001b[0m\u001b[0m\n\u001b[0;32m---> 27\u001b[0;31m \u001b[0;32mfor\u001b[0m \u001b[0mi\u001b[0m \u001b[0;32min\u001b[0m \u001b[0mrange\u001b[0m\u001b[0;34m(\u001b[0m\u001b[0mX_train\u001b[0m\u001b[0;34m.\u001b[0m\u001b[0mshape\u001b[0m\u001b[0;34m[\u001b[0m\u001b[0;36m0\u001b[0m\u001b[0;34m]\u001b[0m\u001b[0;34m)\u001b[0m\u001b[0;34m:\u001b[0m\u001b[0;34m\u001b[0m\u001b[0m\n\u001b[0m\u001b[1;32m     28\u001b[0m     \u001b[0mmy_test_fold\u001b[0m\u001b[0;34m.\u001b[0m\u001b[0mappend\u001b[0m\u001b[0;34m(\u001b[0m\u001b[0;34m-\u001b[0m\u001b[0;36m1\u001b[0m\u001b[0;34m)\u001b[0m\u001b[0;34m\u001b[0m\u001b[0m\n\u001b[1;32m     29\u001b[0m \u001b[0;32mfor\u001b[0m \u001b[0mi\u001b[0m \u001b[0;32min\u001b[0m \u001b[0mrange\u001b[0m\u001b[0;34m(\u001b[0m\u001b[0mX_valid\u001b[0m\u001b[0;34m.\u001b[0m\u001b[0mshape\u001b[0m\u001b[0;34m[\u001b[0m\u001b[0;36m0\u001b[0m\u001b[0;34m]\u001b[0m\u001b[0;34m)\u001b[0m\u001b[0;34m:\u001b[0m\u001b[0;34m\u001b[0m\u001b[0m\n",
      "\u001b[0;31mNameError\u001b[0m: name 'X_train' is not defined"
     ]
    }
   ],
   "source": [
    "#SVM\n",
    "def linSVM(parameters, X, T, fold) : \n",
    "    n_folds = 3\n",
    "    svc = LinearSVC(multi_class='ovr', dual=False)\n",
    "    svc_cv = GridSearchCV(svc, parameters, cv=fold, scoring=\"accuracy\", refit=False)\n",
    "    svc_cv.fit(X, T)\n",
    "    scores = svc_cv.cv_results_['mean_test_score']\n",
    "    params = svc_cv.cv_results_['params']\n",
    "    print('scores:',scores)\n",
    "    print('params:',params)\n",
    "    return svc_cv.best_params_\n",
    "\n",
    "def SVM(parameters, X, T, fold) : \n",
    "    n_folds = 3\n",
    "    svmm = svm.SVC(kernel='linear')\n",
    "    svm_cv = GridSearchCV(svmm, parameters, cv=fold, scoring=\"accuracy\", refit=False)\n",
    "    svm_cv.fit(X, T)\n",
    "    scores = svm_cv.cv_results_['mean_test_score']\n",
    "    params = svm_cv.cv_results_['params']\n",
    "    print('scores:',scores)\n",
    "    print('params:',params)\n",
    "    return svm_cv.best_params_\n",
    "\n",
    "\n",
    "#Predefined Split for CV\n",
    "my_test_fold = []\n",
    "for i in range(X_train.shape[0]):\n",
    "    my_test_fold.append(-1)\n",
    "for i in range(X_valid.shape[0]):\n",
    "    my_test_fold.append(0)\n",
    "\n",
    "fold = PredefinedSplit(test_fold=my_test_fold)\n",
    "CV_split_T = np.append(y_train, y_valid)\n",
    "\n",
    "import scipy.sparse as sp\n",
    "CV_split_X = sp.vstack((X_train , X_valid))  # NOT np.vstack\n",
    "\n",
    "\n",
    "print(CV_split_T.shape)\n",
    "print(CV_split_X.shape)\n"
   ]
  },
  {
   "cell_type": "code",
   "execution_count": null,
   "metadata": {},
   "outputs": [],
   "source": [
    "Cs = [ 0.001, 0.01, 0.1, 1]\n",
    "param_grid = {'C': Cs}\n",
    "\n",
    "bestParams = linSVM(param_grid, CV_split_X, CV_split_T, fold)\n",
    "\n",
    "svc = LinearSVC(C = bestParams['C'], multi_class='ovr', dual=False)\n",
    "svc.fit(X_train, y_train)\n",
    "\n",
    "y_hat = svc.predict(X_test)\n",
    "print(print(\"test acc: \\t\")accuracy_score(y_test, y_hat))"
   ]
  },
  {
   "cell_type": "code",
   "execution_count": null,
   "metadata": {},
   "outputs": [],
   "source": [
    "'''\n",
    "Cs = [ 0.001, 0.01, 0.1, 1, 10]\n",
    "gammas = [ 0.001, 0.01, 0.1, 1]\n",
    "param_grid = {'C': Cs, 'gamma': gammas}\n",
    "\n",
    "bestParams = SVM(param_grid, CV_split_X, CV_split_T, fold)\n",
    "\n",
    "#svm = svm.SVC(C = .003151, multi_class='ovr')\n",
    "#svc.fit(X_train, y_train)\n",
    "\n",
    "#y_hat = svc.predict(X_test)\n",
    "#print(accuracy_score(y_test, y_hat))\n",
    "'''"
   ]
  },
  {
   "cell_type": "code",
   "execution_count": null,
   "metadata": {},
   "outputs": [],
   "source": [
    "#print(confusion_matrix(y_test, y_hat))\n",
    "#print('\\n')\n",
    "#print(classification_report(y_test, y_hat))\n",
    "\n",
    "#print(accuracy_score(y_test, y_hat))"
   ]
  }
 ],
 "metadata": {
  "kernelspec": {
   "display_name": "Python 3",
   "language": "python",
   "name": "python3"
  },
  "language_info": {
   "codemirror_mode": {
    "name": "ipython",
    "version": 3
   },
   "file_extension": ".py",
   "mimetype": "text/x-python",
   "name": "python",
   "nbconvert_exporter": "python",
   "pygments_lexer": "ipython3",
   "version": "3.6.5"
  }
 },
 "nbformat": 4,
 "nbformat_minor": 2
}
