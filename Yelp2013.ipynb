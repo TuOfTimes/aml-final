{
 "cells": [
  {
   "cell_type": "code",
   "execution_count": null,
   "metadata": {},
   "outputs": [],
   "source": [
    "#Yelp 2013"
   ]
  },
  {
   "cell_type": "code",
   "execution_count": 30,
   "metadata": {},
   "outputs": [],
   "source": [
    "import pandas as pd\n",
    "import numpy as np\n",
    "import matplotlib.pyplot as plt\n",
    "import seaborn as sns\n",
    "import nltk\n",
    "from nltk.corpus import stopwords\n",
    "import string\n",
    "from sklearn.feature_extraction.text import CountVectorizer\n",
    "from sklearn.model_selection import GridSearchCV, PredefinedSplit\n"
   ]
  },
  {
   "cell_type": "code",
   "execution_count": 129,
   "metadata": {},
   "outputs": [],
   "source": [
    "#load reviews\n",
    "yelp = pd.read_csv('yelp_2013_train.csv')\n",
    "\n",
    "#add review length to data framce\n",
    "yelp['text length'] = yelp['text'].str.len()\n",
    "\n",
    "#sample for testing purppses\n",
    "#yelp = yelp.sample(frac=.5)\n",
    "\n",
    "X = yelp['text']\n",
    "y = yelp['stars']"
   ]
  },
  {
   "cell_type": "code",
   "execution_count": 11,
   "metadata": {},
   "outputs": [],
   "source": [
    "#remove capitalization, stopwords, and punctuation\n",
    "def process(text) : \n",
    "    #remove punctuation/captizalization\n",
    "    text = str(text)\n",
    "    text = text.lower()\n",
    "    nopunc = [char for char in text if char not in string.punctuation]\n",
    "    nopunc = ''.join(nopunc)\n",
    "    #remove stopwords\n",
    "    return [word for word in nopunc.split() if word.lower() not in stopwords.words('english')]\n"
   ]
  },
  {
   "cell_type": "code",
   "execution_count": 130,
   "metadata": {},
   "outputs": [],
   "source": [
    "\n",
    "max_vocab = 10000\n",
    "\n",
    "bow_transformer = CountVectorizer(analyzer=process, max_features=max_vocab).fit(X)\n"
   ]
  },
  {
   "cell_type": "code",
   "execution_count": 131,
   "metadata": {},
   "outputs": [],
   "source": [
    "X = bow_transformer.transform(X)"
   ]
  },
  {
   "cell_type": "code",
   "execution_count": 132,
   "metadata": {},
   "outputs": [
    {
     "name": "stdout",
     "output_type": "stream",
     "text": [
      "(160934,)\n"
     ]
    }
   ],
   "source": [
    "from sklearn.model_selection import train_test_split\n",
    "\n",
    "\n",
    "X_train, X_test, y_train, y_test = train_test_split(X, y, test_size=0.3, random_state=101)\n",
    "\n",
    "\n",
    "print(y_train.shape)"
   ]
  },
  {
   "cell_type": "code",
   "execution_count": 133,
   "metadata": {},
   "outputs": [],
   "source": [
    "from sklearn.naive_bayes import MultinomialNB\n",
    "\n",
    "nb = MultinomialNB()\n",
    "nb.fit(X_train, y_train)\n",
    "\n",
    "preds = nb.predict(X_test)\n"
   ]
  },
  {
   "cell_type": "code",
   "execution_count": 81,
   "metadata": {},
   "outputs": [
    {
     "name": "stdout",
     "output_type": "stream",
     "text": [
      "(114954,)\n",
      "(114954, 20000)\n",
      "114954\n"
     ]
    }
   ],
   "source": [
    "#SVM\n",
    "\n",
    "def linSVM(parameters, X, T, fold) : \n",
    "    n_folds = 5\n",
    "    svc = LinearSVC(multi_class='ovr')\n",
    "    svc_cv = GridSearchCV(svc, parameters, cv=fold, scoring=\"f1_micro\", refit=False)\n",
    "    svc_cv.fit(X, T)\n",
    "    scores = svc_cv.cv_results_['mean_test_score']\n",
    "    params = svc_cv.cv_results_['params']\n",
    "    print('scores:',scores)\n",
    "    print('params:',params)\n",
    "    return svc_cv.best_params_\n",
    "\n",
    "\n",
    "#Predefined Split for CV\n",
    "my_test_fold = []\n",
    "for i in range(X_train.shape[0]):\n",
    "    my_test_fold.append(-1)\n",
    "for i in range(y_train.shape[0]):\n",
    "    my_test_fold.append(0)\n",
    "\n",
    "fold = PredefinedSplit(test_fold=my_test_fold)\n",
    "CV_split_T = np.append(y_train, y_test)\n",
    "\n",
    "import scipy.sparse as sp\n",
    "CV_split_X = sp.vstack((X_train , X_test))  # NOT np.vstack\n",
    "\n",
    "\n",
    "print(CV_split_T.shape)\n",
    "print(CV_split_X.shape)\n"
   ]
  },
  {
   "cell_type": "code",
   "execution_count": 140,
   "metadata": {},
   "outputs": [],
   "source": [
    "Cs = [0.0018, 0.0019, 0.002, 0.0021, 0.0022, 0.0023, 0.0024]\n",
    "#Cs = [0.00175, 0.00177, 0.00179, 0.00180, 0.00182, 0.00184, 0.00186]\n",
    "Cs = [0.001892, 0.001894, 0.001896, 0.001898, 0.00190, 0.00192, 0.00194]\n",
    "Cs = [0.001890, 0.001891, 0.001892, 0.001893, 0.001894]\n",
    "\n",
    "param_grid = {'C': Cs}\n",
    "\n",
    "#bestParams = linSVM(param_grid, CV_split_X, CV_split_T, fold)\n",
    "\n",
    "\n",
    "svc = LinearSVC(C = .001893, multi_class='ovr')\n",
    "svc.fit(X_train, y_train)\n",
    "\n",
    "\n",
    "preds = nb.predict(X_test)"
   ]
  },
  {
   "cell_type": "code",
   "execution_count": null,
   "metadata": {},
   "outputs": [],
   "source": []
  },
  {
   "cell_type": "code",
   "execution_count": 141,
   "metadata": {},
   "outputs": [
    {
     "name": "stdout",
     "output_type": "stream",
     "text": [
      "[[ 3186  1340   329   218   187]\n",
      " [ 1218  2246  1889   556   274]\n",
      " [  796  1233  4341  3506   793]\n",
      " [  749   613  2775 13367  6587]\n",
      " [ 1077   226   505  6771 14191]]\n",
      "\n",
      "\n",
      "             precision    recall  f1-score   support\n",
      "\n",
      "          1       0.45      0.61      0.52      5260\n",
      "          2       0.40      0.36      0.38      6183\n",
      "          3       0.44      0.41      0.42     10669\n",
      "          4       0.55      0.55      0.55     24091\n",
      "          5       0.64      0.62      0.63     22770\n",
      "\n",
      "avg / total       0.54      0.54      0.54     68973\n",
      "\n",
      "0.5412407753758717\n"
     ]
    }
   ],
   "source": [
    "from sklearn.metrics import confusion_matrix, classification_report\n",
    "from sklearn.metrics import accuracy_score\n",
    "\n",
    "print(confusion_matrix(y_test, preds))\n",
    "print('\\n')\n",
    "print(classification_report(y_test, preds))\n",
    "\n",
    "\n",
    "\n",
    "print(accuracy_score(y_test, preds))"
   ]
  }
 ],
 "metadata": {
  "kernelspec": {
   "display_name": "Python 3",
   "language": "python",
   "name": "python3"
  },
  "language_info": {
   "codemirror_mode": {
    "name": "ipython",
    "version": 3
   },
   "file_extension": ".py",
   "mimetype": "text/x-python",
   "name": "python",
   "nbconvert_exporter": "python",
   "pygments_lexer": "ipython3",
   "version": "3.6.7"
  }
 },
 "nbformat": 4,
 "nbformat_minor": 2
}
